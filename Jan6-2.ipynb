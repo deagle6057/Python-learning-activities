{
 "cells": [
  {
   "cell_type": "code",
   "execution_count": 1,
   "metadata": {},
   "outputs": [
    {
     "name": "stdout",
     "output_type": "stream",
     "text": [
      "no,fruit,amount\n",
      "1,Banana,4 lb\n",
      "2,Orange,5 lb\n",
      "3,Apple,2 lb\n",
      "4,Strawberry,6 lb\n",
      "5,Cherry,3 lb\n"
     ]
    }
   ],
   "source": [
    "with open(\"fruits.csv\",\"r\",encoding=\"utf-8\") as file1:\n",
    "    print(file1.read())"
   ]
  },
  {
   "cell_type": "code",
   "execution_count": 3,
   "metadata": {},
   "outputs": [
    {
     "name": "stdout",
     "output_type": "stream",
     "text": [
      "no,first name,last name,ages\n",
      "1,Akif,Ak,52\n",
      "2,Zeynep,Ak,44\n",
      "3,Mert,Ak,22\n",
      "4,Tarik,Ak,20\n",
      "5,Murat,Ak,15\n"
     ]
    }
   ],
   "source": [
    "with open(\"people.csv\",\"r\",encoding=\"utf-8\") as file2:\n",
    "    print(file2.read())"
   ]
  }
 ],
 "metadata": {
  "kernelspec": {
   "display_name": "Python 3",
   "language": "python",
   "name": "python3"
  },
  "language_info": {
   "codemirror_mode": {
    "name": "ipython",
    "version": 3
   },
   "file_extension": ".py",
   "mimetype": "text/x-python",
   "name": "python",
   "nbconvert_exporter": "python",
   "pygments_lexer": "ipython3",
   "version": "3.7.3"
  }
 },
 "nbformat": 4,
 "nbformat_minor": 2
}
