{
 "cells": [
  {
   "cell_type": "code",
   "execution_count": 27,
   "metadata": {},
   "outputs": [
    {
     "name": "stdout",
     "output_type": "stream",
     "text": [
      "Jasmine\n",
      "Rose\n",
      "Lily\n",
      "Daisy\n",
      "Tulip\n"
     ]
    }
   ],
   "source": [
    "flowers = [\"Jasmine\\n\",\"Rose\\n\",\"Lily\\n\",\"Daisy\\n\",\"Tulip\"]\n",
    "with open(\"flowers.txt\",\"w\",encoding=\"utf-8\") as file:\n",
    "    file.writelines(flowers)\n",
    "with open(\"flowers.txt\",\"r\",encoding=\"utf-8\") as file:\n",
    "    print(file.read())"
   ]
  },
  {
   "cell_type": "code",
   "execution_count": 25,
   "metadata": {},
   "outputs": [
    {
     "name": "stdout",
     "output_type": "stream",
     "text": [
      "Banana\n",
      "Orange\n",
      "Apple\n",
      "Strawberry\n",
      "Cherry\n",
      "\n"
     ]
    }
   ],
   "source": [
    "fruits = [\"Banana\\n\", \"Orange\\n\", \"Apple\\n\",\"Strawberry\\n\",\"Cherry\\n\"]\n",
    "with open(\"fruits.txt\",\"w\",encoding=\"utf-8\") as file:\n",
    "    file.writelines(fruits)\n",
    "with open(\"fruits.txt\",\"r\",encoding=\"utf-8\") as file:\n",
    "    print(file.read())"
   ]
  },
  {
   "cell_type": "code",
   "execution_count": 26,
   "metadata": {},
   "outputs": [
    {
     "name": "stdout",
     "output_type": "stream",
     "text": [
      "Banana\n",
      "Orange\n",
      "Apple\n",
      "Strawberry\n",
      "Cherry\n",
      "Melon\n",
      "\n",
      "['Banana\\n', 'Orange\\n', 'Apple\\n', 'Strawberry\\n', 'Cherry\\n', 'Melon\\n']\n"
     ]
    }
   ],
   "source": [
    "with open(\"fruits.txt\",\"a\") as file:\n",
    "    file.write(\"Melon\\n\")\n",
    "with open(\"fruits.txt\",\"r\") as file:\n",
    "    print(file.read())\n",
    "with open(\"fruits.txt\",\"r\") as file:\n",
    "    print(file.readlines())"
   ]
  },
  {
   "cell_type": "code",
   "execution_count": null,
   "metadata": {},
   "outputs": [],
   "source": [
    "with open(\"poem.txt\", \"r\") as p:\n",
    "    ist = p.readlines()"
   ]
  },
  {
   "cell_type": "code",
   "execution_count": 49,
   "metadata": {},
   "outputs": [
    {
     "data": {
      "text/plain": [
       "['Korkma, sönmez bu şafaklarda yüzen al sancak;\\n',\n",
       " 'Sönmeden yurdumun üstünde tüten en son ocak.\\n',\n",
       " 'O benim milletimin yıldızıdır, parlayacak;\\n',\n",
       " 'O benimdir, o benim milletimindir ancak.\\n',\n",
       " 'Çatma, kurban olayım, çehreni ey nazlı hilal!\\n',\n",
       " 'Kahraman ırkıma bir gül! Ne bu şiddet, bu celal?\\n',\n",
       " 'Sana olmaz dökülen kanlarımız sonra helal...\\n',\n",
       " \"Hakkıdır, hakk'a tapan, milletimin istiklal!\\n\",\n",
       " 'Ben ezelden beridir hür yaşadım, hür yaşarım.\\n',\n",
       " 'Hangi çılgın bana zincir vuracakmış? Şaşarım!\\n',\n",
       " 'Kükremiş sel gibiyim, bendimi çiğner, aşarım.\\n',\n",
       " 'Yırtarım dağları, enginlere sığmam, taşarım.\\n',\n",
       " 'Garbın afakını sarmışsa çelik zırhlı duvar,\\n',\n",
       " 'Benim iman dolu göğsüm gibi serhaddim var.\\n',\n",
       " 'Ulusun, korkma! Nasıl böyle bir imanı boğar,\\n',\n",
       " \"'Medeniyet!' dediğin tek dişi kalmış canavar?\\n\",\n",
       " 'Arkadaş! Yurduma alçakları uğratma, sakın.\\n',\n",
       " 'Siper et gövdeni, dursun bu hayasızca akın.\\n',\n",
       " \"Doğacaktır sana va'dettigi günler hakk'ın...\\n\",\n",
       " 'Kim bilir, belki yarın, belki yarından da yakın.\\n',\n",
       " \"Bastığın yerleri 'toprak!' diyerek geçme, tanı:\\n\",\n",
       " 'Düşün altında binlerce kefensiz yatanı.\\n',\n",
       " 'Sen şehit oğlusun, incitme, yazıktır, atanı:\\n',\n",
       " 'Verme, dünyaları alsan da, bu cennet vatanı.\\n',\n",
       " 'Kim bu cennet vatanın uğruna olmaz ki feda?\\n',\n",
       " 'Şuheda fışkıracak toprağı sıksan, şuheda!\\n',\n",
       " 'Canı, cananı, bütün varımı alsın da hüda,\\n',\n",
       " 'Etmesin tek vatanımdan beni dünyada cüda.\\n',\n",
       " 'Ruhumun senden, ilahi, şudur ancak emeli:\\n',\n",
       " 'Değmesin mabedimin göğsüne namahrem eli.\\n',\n",
       " 'Bu ezanlar-ki şahadetleri dinin temeli,\\n',\n",
       " 'Ebedi yurdumun üstünde benim inlemeli.']"
      ]
     },
     "execution_count": 49,
     "metadata": {},
     "output_type": "execute_result"
    }
   ],
   "source": [
    "ist"
   ]
  },
  {
   "cell_type": "code",
   "execution_count": 62,
   "metadata": {},
   "outputs": [],
   "source": [
    "counter=0"
   ]
  },
  {
   "cell_type": "code",
   "execution_count": 63,
   "metadata": {},
   "outputs": [
    {
     "name": "stdout",
     "output_type": "stream",
     "text": [
      "\n"
     ]
    }
   ],
   "source": [
    "with open(\"poem.txt\",\"w\", encoding = \"utf-8\") as p:\n",
    "    \n",
    "    for i in ist:\n",
    "        counter+=1\n",
    "        if counter % 4 == 0:\n",
    "            p.write(i +\"\\n\")\n",
    "        else:\n",
    "            p.write(i)\n",
    "with open(\"poem.txt\",\"r\", encoding = \"utf-8\") as p:\n",
    "    ist2=p.readlines()\n",
    "    print(p.read())"
   ]
  },
  {
   "cell_type": "code",
   "execution_count": 58,
   "metadata": {},
   "outputs": [
    {
     "data": {
      "text/plain": [
       "['Korkma, sönmez bu şafaklarda yüzen al sancak;\\n',\n",
       " 'Sönmeden yurdumun üstünde tüten en son ocak.\\n',\n",
       " 'O benim milletimin yıldızıdır, parlayacak;\\n',\n",
       " 'O benimdir, o benim milletimindir ancak.\\n',\n",
       " '\\n',\n",
       " 'Çatma, kurban olayım, çehreni ey nazlı hilal!\\n',\n",
       " 'Kahraman ırkıma bir gül! Ne bu şiddet, bu celal?\\n',\n",
       " 'Sana olmaz dökülen kanlarımız sonra helal...\\n',\n",
       " \"Hakkıdır, hakk'a tapan, milletimin istiklal!\\n\",\n",
       " '\\n',\n",
       " 'Ben ezelden beridir hür yaşadım, hür yaşarım.\\n',\n",
       " 'Hangi çılgın bana zincir vuracakmış? Şaşarım!\\n',\n",
       " 'Kükremiş sel gibiyim, bendimi çiğner, aşarım.\\n',\n",
       " 'Yırtarım dağları, enginlere sığmam, taşarım.\\n',\n",
       " '\\n',\n",
       " 'Garbın afakını sarmışsa çelik zırhlı duvar,\\n',\n",
       " 'Benim iman dolu göğsüm gibi serhaddim var.\\n',\n",
       " 'Ulusun, korkma! Nasıl böyle bir imanı boğar,\\n',\n",
       " \"'Medeniyet!' dediğin tek dişi kalmış canavar?\\n\",\n",
       " '\\n',\n",
       " 'Arkadaş! Yurduma alçakları uğratma, sakın.\\n',\n",
       " 'Siper et gövdeni, dursun bu hayasızca akın.\\n',\n",
       " \"Doğacaktır sana va'dettigi günler hakk'ın...\\n\",\n",
       " 'Kim bilir, belki yarın, belki yarından da yakın.\\n',\n",
       " '\\n',\n",
       " \"Bastığın yerleri 'toprak!' diyerek geçme, tanı:\\n\",\n",
       " 'Düşün altında binlerce kefensiz yatanı.\\n',\n",
       " 'Sen şehit oğlusun, incitme, yazıktır, atanı:\\n',\n",
       " 'Verme, dünyaları alsan da, bu cennet vatanı.\\n',\n",
       " '\\n',\n",
       " 'Kim bu cennet vatanın uğruna olmaz ki feda?\\n',\n",
       " 'Şuheda fışkıracak toprağı sıksan, şuheda!\\n',\n",
       " 'Canı, cananı, bütün varımı alsın da hüda,\\n',\n",
       " 'Etmesin tek vatanımdan beni dünyada cüda.\\n',\n",
       " '\\n',\n",
       " 'Ruhumun senden, ilahi, şudur ancak emeli:\\n',\n",
       " 'Değmesin mabedimin göğsüne namahrem eli.\\n',\n",
       " 'Bu ezanlar-ki şahadetleri dinin temeli,\\n',\n",
       " 'Ebedi yurdumun üstünde benim inlemeli.\\n']"
      ]
     },
     "execution_count": 58,
     "metadata": {},
     "output_type": "execute_result"
    }
   ],
   "source": [
    "ist2"
   ]
  },
  {
   "cell_type": "code",
   "execution_count": 65,
   "metadata": {},
   "outputs": [],
   "source": [
    "count=0"
   ]
  },
  {
   "cell_type": "code",
   "execution_count": 70,
   "metadata": {},
   "outputs": [
    {
     "name": "stdout",
     "output_type": "stream",
     "text": [
      "Korkma, sönmez bu şafaklarda yüzen al sancak;\n",
      "Sönmeden yurdumun üstünde tüten en son ocak.\n",
      "O benim milletimin yıldızıdır, parlayacak;\n",
      "O benimdir, o benim milletimindir ancak.\n",
      "\n",
      "Çatma, kurban olayım, çehreni ey nazlı hilal!\n",
      "Kahraman ırkıma bir gül! Ne bu şiddet, bu celal?\n",
      "Sana olmaz dökülen kanlarımız sonra helal...\n",
      "Hakkıdır, hakk'a tapan, milletimin istiklal!\n",
      "\n",
      "Ben ezelden beridir hür yaşadım, hür yaşarım.\n",
      "Hangi çılgın bana zincir vuracakmış? Şaşarım!\n",
      "Kükremiş sel gibiyim, bendimi çiğner, aşarım.\n",
      "Yırtarım dağları, enginlere sığmam, taşarım.\n",
      "\n",
      "Garbın afakını sarmışsa çelik zırhlı duvar,\n",
      "Benim iman dolu göğsüm gibi serhaddim var.\n",
      "Ulusun, korkma! Nasıl böyle bir imanı boğar,\n",
      "'Medeniyet!' dediğin tek dişi kalmış canavar?\n",
      "\n",
      "Arkadaş! Yurduma alçakları uğratma, sakın.\n",
      "Siper et gövdeni, dursun bu hayasızca akın.\n",
      "Doğacaktır sana va'dettigi günler hakk'ın...\n",
      "Kim bilir, belki yarın, belki yarından da yakın.\n",
      "\n",
      "Bastığın yerleri 'toprak!' diyerek geçme, tanı:\n",
      "Düşün altında binlerce kefensiz yatanı.\n",
      "Sen şehit oğlusun, incitme, yazıktır, atanı:\n",
      "Verme, dünyaları alsan da, bu cennet vatanı.\n",
      "\n",
      "Kim bu cennet vatanın uğruna olmaz ki feda?\n",
      "Şuheda fışkıracak toprağı sıksan, şuheda!\n",
      "Canı, cananı, bütün varımı alsın da hüda,\n",
      "Etmesin tek vatanımdan beni dünyada cüda.\n",
      "\n",
      "Ruhumun senden, ilahi, şudur ancak emeli:\n",
      "Değmesin mabedimin göğsüne namahrem eli.\n",
      "Bu ezanlar-ki şahadetleri dinin temeli,\n",
      "Ebedi yurdumun üstünde benim inlemeli.\n",
      "Korkma, sönmez bu şafaklarda yüzen al sancak;\n",
      "Sönmeden yurdumun üstünde tüten en son ocak.\n",
      "O benimdir, o benim milletimindir ancak.\n",
      "Çatma, kurban olayım, çehreni ey nazlı hilal!\n",
      "Kahraman ırkıma bir gül! Ne bu şiddet, bu celal?\n",
      "Sana olmaz dökülen kanlarımız sonra helal...\n",
      "Ben ezelden beridir hür yaşadım, hür yaşarım.\n",
      "Hangi çılgın bana zincir vuracakmış? Şaşarım!\n",
      "Kükremiş sel gibiyim, bendimi çiğner, aşarım.\n",
      "Yırtarım dağları, enginlere sığmam, taşarım.\n",
      "Benim iman dolu göğsüm gibi serhaddim var.\n",
      "Ulusun, korkma! Nasıl böyle bir imanı boğar,\n",
      "'Medeniyet!' dediğin tek dişi kalmış canavar?\n",
      "Arkadaş! Yurduma alçakları uğratma, sakın.\n",
      "Doğacaktır sana va'dettigi günler hakk'ın...\n",
      "Kim bilir, belki yarın, belki yarından da yakın.\n",
      "Bastığın yerleri 'toprak!' diyerek geçme, tanı:\n",
      "Düşün altında binlerce kefensiz yatanı.\n",
      "Verme, dünyaları alsan da, bu cennet vatanı.\n",
      "Kim bu cennet vatanın uğruna olmaz ki feda?\n",
      "Şuheda fışkıracak toprağı sıksan, şuheda!\n",
      "Canı, cananı, bütün varımı alsın da hüda,\n",
      "Ruhumun senden, ilahi, şudur ancak emeli:\n",
      "Değmesin mabedimin göğsüne namahrem eli.\n",
      "Bu ezanlar-ki şahadetleri dinin temeli,\n",
      "Ebedi yurdumun üstünde benim inlemeli.Sönmeden yurdumun üstünde tüten en son ocak.\n",
      "O benim milletimin yıldızıdır, parlayacak;\n",
      "O benimdir, o benim milletimindir ancak.\n",
      "Çatma, kurban olayım, çehreni ey nazlı hilal!\n",
      "Sana olmaz dökülen kanlarımız sonra helal...\n",
      "Hakkıdır, hakk'a tapan, milletimin istiklal!\n",
      "Ben ezelden beridir hür yaşadım, hür yaşarım.\n",
      "Hangi çılgın bana zincir vuracakmış? Şaşarım!\n",
      "Yırtarım dağları, enginlere sığmam, taşarım.\n",
      "Garbın afakını sarmışsa çelik zırhlı duvar,\n",
      "Benim iman dolu göğsüm gibi serhaddim var.\n",
      "Ulusun, korkma! Nasıl böyle bir imanı boğar,\n",
      "Arkadaş! Yurduma alçakları uğratma, sakın.\n",
      "Siper et gövdeni, dursun bu hayasızca akın.\n",
      "Doğacaktır sana va'dettigi günler hakk'ın...\n",
      "Kim bilir, belki yarın, belki yarından da yakın.\n",
      "Düşün altında binlerce kefensiz yatanı.\n",
      "Sen şehit oğlusun, incitme, yazıktır, atanı:\n",
      "Verme, dünyaları alsan da, bu cennet vatanı.\n",
      "Kim bu cennet vatanın uğruna olmaz ki feda?\n",
      "Canı, cananı, bütün varımı alsın da hüda,\n",
      "Etmesin tek vatanımdan beni dünyada cüda.\n",
      "Ruhumun senden, ilahi, şudur ancak emeli:\n",
      "Değmesin mabedimin göğsüne namahrem eli.\n",
      "Ebedi yurdumun üstünde benim inlemeli.Korkma, sönmez bu şafaklarda yüzen al sancak;\n",
      "Sönmeden yurdumun üstünde tüten en son ocak.\n",
      "O benim milletimin yıldızıdır, parlayacak;\n",
      "Çatma, kurban olayım, çehreni ey nazlı hilal!\n",
      "Kahraman ırkıma bir gül! Ne bu şiddet, bu celal?\n",
      "Sana olmaz dökülen kanlarımız sonra helal...\n",
      "Hakkıdır, hakk'a tapan, milletimin istiklal!\n",
      "Hangi çılgın bana zincir vuracakmış? Şaşarım!\n",
      "Kükremiş sel gibiyim, bendimi çiğner, aşarım.\n",
      "Yırtarım dağları, enginlere sığmam, taşarım.\n",
      "Garbın afakını sarmışsa çelik zırhlı duvar,\n",
      "Ulusun, korkma! Nasıl böyle bir imanı boğar,\n",
      "'Medeniyet!' dediğin tek dişi kalmış canavar?\n",
      "Arkadaş! Yurduma alçakları uğratma, sakın.\n",
      "Siper et gövdeni, dursun bu hayasızca akın.\n",
      "Kim bilir, belki yarın, belki yarından da yakın.\n",
      "Bastığın yerleri 'toprak!' diyerek geçme, tanı:\n",
      "Düşün altında binlerce kefensiz yatanı.\n",
      "Sen şehit oğlusun, incitme, yazıktır, atanı:\n",
      "Kim bu cennet vatanın uğruna olmaz ki feda?\n",
      "Şuheda fışkıracak toprağı sıksan, şuheda!\n",
      "Canı, cananı, bütün varımı alsın da hüda,\n",
      "Etmesin tek vatanımdan beni dünyada cüda.\n",
      "Değmesin mabedimin göğsüne namahrem eli.\n",
      "Bu ezanlar-ki şahadetleri dinin temeli,\n",
      "Ebedi yurdumun üstünde benim inlemeli.\n"
     ]
    }
   ],
   "source": [
    "with open(\"poem.txt\",\"a\", encoding = \"utf-8\") as p:\n",
    "    \n",
    "    for i in ist:\n",
    "        counter+=1\n",
    "        if counter % 5 == 0:\n",
    "            p.write(\"\")\n",
    "        else:\n",
    "            p.write(i)\n",
    "with open(\"poem.txt\",\"r\", encoding = \"utf-8\") as p:\n",
    "    print(p.read())\n",
    "    ist3=p.read()"
   ]
  },
  {
   "cell_type": "code",
   "execution_count": 72,
   "metadata": {},
   "outputs": [
    {
     "data": {
      "text/plain": [
       "''"
      ]
     },
     "execution_count": 72,
     "metadata": {},
     "output_type": "execute_result"
    }
   ],
   "source": [
    "ist3"
   ]
  }
 ],
 "metadata": {
  "kernelspec": {
   "display_name": "Python 3",
   "language": "python",
   "name": "python3"
  },
  "language_info": {
   "codemirror_mode": {
    "name": "ipython",
    "version": 3
   },
   "file_extension": ".py",
   "mimetype": "text/x-python",
   "name": "python",
   "nbconvert_exporter": "python",
   "pygments_lexer": "ipython3",
   "version": "3.7.3"
  }
 },
 "nbformat": 4,
 "nbformat_minor": 2
}
