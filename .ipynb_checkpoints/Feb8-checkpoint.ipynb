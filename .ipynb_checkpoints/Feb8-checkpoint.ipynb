{
 "cells": [
  {
   "cell_type": "code",
   "execution_count": 2,
   "metadata": {},
   "outputs": [],
   "source": [
    "from datetime import date"
   ]
  },
  {
   "cell_type": "code",
   "execution_count": 3,
   "metadata": {},
   "outputs": [],
   "source": [
    "my_today = date.today()"
   ]
  },
  {
   "cell_type": "code",
   "execution_count": 5,
   "metadata": {},
   "outputs": [
    {
     "data": {
      "text/plain": [
       "datetime.date(2021, 2, 8)"
      ]
     },
     "execution_count": 5,
     "metadata": {},
     "output_type": "execute_result"
    }
   ],
   "source": [
    "my_today"
   ]
  },
  {
   "cell_type": "code",
   "execution_count": 6,
   "metadata": {},
   "outputs": [
    {
     "name": "stdout",
     "output_type": "stream",
     "text": [
      "2021-02-08\n"
     ]
    }
   ],
   "source": [
    "print(my_today)"
   ]
  },
  {
   "cell_type": "code",
   "execution_count": 7,
   "metadata": {},
   "outputs": [
    {
     "data": {
      "text/plain": [
       "2021"
      ]
     },
     "execution_count": 7,
     "metadata": {},
     "output_type": "execute_result"
    }
   ],
   "source": [
    "my_today.year"
   ]
  },
  {
   "cell_type": "code",
   "execution_count": 8,
   "metadata": {},
   "outputs": [
    {
     "data": {
      "text/plain": [
       "2"
      ]
     },
     "execution_count": 8,
     "metadata": {},
     "output_type": "execute_result"
    }
   ],
   "source": [
    "my_today.month"
   ]
  },
  {
   "cell_type": "code",
   "execution_count": 10,
   "metadata": {},
   "outputs": [
    {
     "data": {
      "text/plain": [
       "8"
      ]
     },
     "execution_count": 10,
     "metadata": {},
     "output_type": "execute_result"
    }
   ],
   "source": [
    "my_today.day"
   ]
  },
  {
   "cell_type": "code",
   "execution_count": 19,
   "metadata": {},
   "outputs": [],
   "source": [
    "squ_dict={f\"square of {i}\":i**2 for i in range(10)}"
   ]
  },
  {
   "cell_type": "code",
   "execution_count": 20,
   "metadata": {},
   "outputs": [
    {
     "data": {
      "text/plain": [
       "{'square of 0': 0,\n",
       " 'square of 1': 1,\n",
       " 'square of 2': 4,\n",
       " 'square of 3': 9,\n",
       " 'square of 4': 16,\n",
       " 'square of 5': 25,\n",
       " 'square of 6': 36,\n",
       " 'square of 7': 49,\n",
       " 'square of 8': 64,\n",
       " 'square of 9': 81}"
      ]
     },
     "execution_count": 20,
     "metadata": {},
     "output_type": "execute_result"
    }
   ],
   "source": [
    "squ_dict"
   ]
  },
  {
   "cell_type": "code",
   "execution_count": 25,
   "metadata": {},
   "outputs": [],
   "source": [
    "L = [\"right 20\",\"right 30\",\"left 50\",\"up 10\",\"down 20\"]\n",
    "xy=[0,0]\n",
    "for i in L:\n",
    "    if i.split()[0]==\"right\":\n",
    "        xy[0]+=int(i.split()[1])\n",
    "    elif i.split()[0]==\"left\":\n",
    "        xy[0]-=int(i.split()[1])\n",
    "    elif i.split()[0]==\"up\":\n",
    "        xy[1]+=int(i.split()[1])\n",
    "    elif i.split()[0]==\"down\":\n",
    "        xy[1]-=int(i.split()[1])\n"
   ]
  },
  {
   "cell_type": "code",
   "execution_count": 26,
   "metadata": {},
   "outputs": [
    {
     "name": "stdout",
     "output_type": "stream",
     "text": [
      "[0, -10]\n"
     ]
    }
   ],
   "source": [
    "print(xy)"
   ]
  },
  {
   "cell_type": "code",
   "execution_count": 28,
   "metadata": {},
   "outputs": [
    {
     "name": "stdout",
     "output_type": "stream",
     "text": [
      "True\n",
      "True\n"
     ]
    }
   ],
   "source": [
    "print(\"https://app.peardeck.com\".startswith((\"https\",\"ahttps\",\"shttp\")))\n",
    "print(\"https://app.peardeck.com\".endswith((\"co.de\",\"co.en\",\"com\")))"
   ]
  },
  {
   "cell_type": "code",
   "execution_count": 35,
   "metadata": {},
   "outputs": [],
   "source": [
    "dict_couple={\"female\": [\"mary\",\"bella\",\"lolly\"],\n",
    "            \"male\": [\"rye\",\"fred\",\"tom\"]}"
   ]
  },
  {
   "cell_type": "code",
   "execution_count": 36,
   "metadata": {},
   "outputs": [
    {
     "data": {
      "text/plain": [
       "[('mary', 'rye'), ('bella', 'fred'), ('lolly', 'tom')]"
      ]
     },
     "execution_count": 36,
     "metadata": {},
     "output_type": "execute_result"
    }
   ],
   "source": [
    "list(zip(dict_couple[\"female\"],dict_couple[\"male\"]))"
   ]
  },
  {
   "cell_type": "code",
   "execution_count": 37,
   "metadata": {},
   "outputs": [
    {
     "name": "stdout",
     "output_type": "stream",
     "text": [
      "[('mary', 'rye'), ('bella', 'fred'), ('lolly', 'tom')]\n"
     ]
    }
   ],
   "source": [
    "def marrys(x,y):\n",
    "    couples=list(zip(x,y))\n",
    "    print(couples)\n",
    "\n",
    "marry(dict_couple[\"female\"],dict_couple[\"male\"])"
   ]
  },
  {
   "cell_type": "code",
   "execution_count": 38,
   "metadata": {},
   "outputs": [],
   "source": [
    "def marry(female,male):\n",
    "    couple_list = []\n",
    "    \n",
    "    for i in zip(female,male):\n",
    "        couple_list.append(i)\n",
    "    return couple_list"
   ]
  },
  {
   "cell_type": "code",
   "execution_count": 39,
   "metadata": {},
   "outputs": [
    {
     "data": {
      "text/plain": [
       "[('mary', 'rye'), ('bella', 'fred'), ('lolly', 'tom')]"
      ]
     },
     "execution_count": 39,
     "metadata": {},
     "output_type": "execute_result"
    }
   ],
   "source": [
    "marry(**dict_couple)"
   ]
  }
 ],
 "metadata": {
  "kernelspec": {
   "display_name": "Python 3",
   "language": "python",
   "name": "python3"
  },
  "language_info": {
   "codemirror_mode": {
    "name": "ipython",
    "version": 3
   },
   "file_extension": ".py",
   "mimetype": "text/x-python",
   "name": "python",
   "nbconvert_exporter": "python",
   "pygments_lexer": "ipython3",
   "version": "3.7.3"
  }
 },
 "nbformat": 4,
 "nbformat_minor": 2
}
