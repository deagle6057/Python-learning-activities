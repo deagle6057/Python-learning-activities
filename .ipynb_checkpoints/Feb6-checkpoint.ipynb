{
 "cells": [
  {
   "cell_type": "code",
   "execution_count": 20,
   "metadata": {},
   "outputs": [
    {
     "name": "stdout",
     "output_type": "stream",
     "text": [
      "Jasmine\n",
      "Rose\n",
      "Lily\n",
      "Daisy\n",
      "Tulip\n",
      "\n"
     ]
    }
   ],
   "source": [
    "flowers = [\"Jasmine\\n\",\"Rose\\n\",\"Lily\\n\",\"Daisy\\n\",\"Tulip\\n\"]\n",
    "with open(\"flowers.txt\",\"w\",encoding=\"utf-8\") as file:\n",
    "    file.writelines(flowers)\n",
    "with open(\"flowers.txt\",\"r\",encoding=\"utf-8\") as file:\n",
    "    print(file.read())"
   ]
  }
 ],
 "metadata": {
  "kernelspec": {
   "display_name": "Python 3",
   "language": "python",
   "name": "python3"
  },
  "language_info": {
   "codemirror_mode": {
    "name": "ipython",
    "version": 3
   },
   "file_extension": ".py",
   "mimetype": "text/x-python",
   "name": "python",
   "nbconvert_exporter": "python",
   "pygments_lexer": "ipython3",
   "version": "3.7.3"
  }
 },
 "nbformat": 4,
 "nbformat_minor": 2
}
