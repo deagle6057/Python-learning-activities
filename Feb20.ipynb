{
 "cells": [
  {
   "cell_type": "code",
   "execution_count": 3,
   "metadata": {},
   "outputs": [],
   "source": [
    "import os"
   ]
  },
  {
   "cell_type": "code",
   "execution_count": 4,
   "metadata": {},
   "outputs": [
    {
     "name": "stdout",
     "output_type": "stream",
     "text": [
      "flowers.txt\n",
      "fruits.txt\n",
      "people.txt\n",
      "poem.txt\n",
      "try.txt.txt\n"
     ]
    }
   ],
   "source": [
    "import glob\n",
    "for file in glob.glob(\"*.txt\"):\n",
    "    print(file)"
   ]
  },
  {
   "cell_type": "code",
   "execution_count": 5,
   "metadata": {},
   "outputs": [
    {
     "data": {
      "text/plain": [
       "'../rumi_copy.txt'"
      ]
     },
     "execution_count": 5,
     "metadata": {},
     "output_type": "execute_result"
    }
   ],
   "source": [
    "import shutil\n",
    "shutil.copy(\"poem.txt\",\"../rumi_copy.txt\") #../ means upper directory\n"
   ]
  },
  {
   "cell_type": "code",
   "execution_count": 6,
   "metadata": {},
   "outputs": [
    {
     "name": "stdout",
     "output_type": "stream",
     "text": [
      "88\n",
      "72\n"
     ]
    }
   ],
   "source": [
    "import sys\n",
    "x=[1,2,3]\n",
    "y=(1,2,3)\n",
    "print(sys.getsizeof(x))\n",
    "print(sys.getsizeof(y))"
   ]
  },
  {
   "cell_type": "code",
   "execution_count": 7,
   "metadata": {},
   "outputs": [
    {
     "name": "stdout",
     "output_type": "stream",
     "text": [
      "----------------------------- \n",
      "\n",
      "0  0  0  | 0  6  4  | 0  0  0  \n",
      "\n",
      "7  0  0  | 0  0  0  | 3  9  0  \n",
      "\n",
      "8  0  0  | 0  0  0  | 0  0  0  \n",
      "\n",
      "----------------------------- \n",
      "\n",
      "0  0  0  | 5  0  2  | 0  6  0  \n",
      "\n",
      "0  8  0  | 4  0  0  | 0  0  0  \n",
      "\n",
      "3  5  0  | 6  0  0  | 0  7  0  \n",
      "\n",
      "----------------------------- \n",
      "\n",
      "0  0  2  | 0  0  0  | 1  0  3  \n",
      "\n",
      "0  0  1  | 0  5  9  | 0  0  0  \n",
      "\n",
      "0  0  0  | 0  0  0  | 7  0  0  \n",
      "\n",
      "-----------------------------\n"
     ]
    }
   ],
   "source": [
    "sudoku = [\n",
    "    [0, 0, 0, 0, 6, 4, 0, 0, 0],\n",
    "    [7, 0, 0, 0, 0, 0, 3, 9, 0],\n",
    "    [8, 0, 0, 0, 0, 0, 0, 0, 0],\n",
    "    [0, 0, 0, 5, 0, 2, 0, 6, 0],\n",
    "    [0, 8, 0, 4, 0, 0, 0, 0, 0],\n",
    "    [3, 5, 0, 6, 0, 0, 0, 7, 0],\n",
    "    [0, 0, 2, 0, 0, 0, 1, 0, 3],\n",
    "    [0, 0, 1, 0, 5, 9, 0, 0, 0],\n",
    "    [0, 0, 0, 0, 0, 0, 7, 0, 0]\n",
    "]\n",
    "\n",
    "counter=0\n",
    "for i in sudoku:\n",
    "  if counter %3==0:\n",
    "    print(\"-\"*29,\"\\n\")\n",
    "  count=0\n",
    "  for j in i:\n",
    "    print(j,end=\"  \")\n",
    "    count+=1\n",
    "    if count %3==0 and count/3<3:\n",
    "      print(\"|\",end=\" \")\n",
    "  print(\"\\n\")\n",
    "  counter+=1\n",
    "print(\"-\"*29)"
   ]
  },
  {
   "cell_type": "code",
   "execution_count": 14,
   "metadata": {},
   "outputs": [
    {
     "name": "stdout",
     "output_type": "stream",
     "text": [
      "[1, 2, 3, 4, 5, 6]\n",
      "[1, 2, 3, 4, 5, 6]\n"
     ]
    }
   ],
   "source": [
    "x=[([1],[2,3],(4,5,6))]\n",
    "a=[]\n",
    "for i in x:\n",
    "    for j in i:\n",
    "        for k in j:\n",
    "            a.append(k)\n",
    "print(a)\n",
    "\n",
    "b=[k for i in x for j in i for k in j]\n",
    "print(b)"
   ]
  },
  {
   "cell_type": "code",
   "execution_count": 16,
   "metadata": {},
   "outputs": [
    {
     "name": "stdout",
     "output_type": "stream",
     "text": [
      "1\n",
      "9\n",
      "36\n",
      "100\n"
     ]
    },
    {
     "ename": "StopIteration",
     "evalue": "",
     "output_type": "error",
     "traceback": [
      "\u001b[1;31m---------------------------------------------------------------------------\u001b[0m",
      "\u001b[1;31mStopIteration\u001b[0m                             Traceback (most recent call last)",
      "\u001b[1;32m<ipython-input-16-1877a1720b29>\u001b[0m in \u001b[0;36m<module>\u001b[1;34m\u001b[0m\n\u001b[0;32m      5\u001b[0m \u001b[0mprint\u001b[0m\u001b[1;33m(\u001b[0m\u001b[0mnext\u001b[0m\u001b[1;33m(\u001b[0m\u001b[0ma\u001b[0m\u001b[1;33m)\u001b[0m\u001b[1;33m)\u001b[0m\u001b[1;33m\u001b[0m\u001b[1;33m\u001b[0m\u001b[0m\n\u001b[0;32m      6\u001b[0m \u001b[0mprint\u001b[0m\u001b[1;33m(\u001b[0m\u001b[0mnext\u001b[0m\u001b[1;33m(\u001b[0m\u001b[0ma\u001b[0m\u001b[1;33m)\u001b[0m\u001b[1;33m)\u001b[0m\u001b[1;33m\u001b[0m\u001b[1;33m\u001b[0m\u001b[0m\n\u001b[1;32m----> 7\u001b[1;33m \u001b[0mprint\u001b[0m\u001b[1;33m(\u001b[0m\u001b[0mnext\u001b[0m\u001b[1;33m(\u001b[0m\u001b[0ma\u001b[0m\u001b[1;33m)\u001b[0m\u001b[1;33m)\u001b[0m\u001b[1;33m\u001b[0m\u001b[1;33m\u001b[0m\u001b[0m\n\u001b[0m",
      "\u001b[1;31mStopIteration\u001b[0m: "
     ]
    }
   ],
   "source": [
    "my_list=[1,3,6,10]\n",
    "a=(x**2 for x in my_list)\n",
    "print(next(a))\n",
    "print(next(a))\n",
    "print(next(a))\n",
    "print(next(a))\n",
    "print(next(a)) #this one will give error"
   ]
  },
  {
   "cell_type": "code",
   "execution_count": 18,
   "metadata": {},
   "outputs": [
    {
     "data": {
      "text/plain": [
       "True"
      ]
     },
     "execution_count": 18,
     "metadata": {},
     "output_type": "execute_result"
    }
   ],
   "source": [
    "p=\"([{()}])\"\n",
    "while \"()\" in p or \"[]\" in p or \"{}\" in p:\n",
    "    p=p.replace(\"()\",\"\").replace(\"{}\",\"\").replace(\"[]\",\"\")\n",
    "p==\"\""
   ]
  },
  {
   "cell_type": "code",
   "execution_count": 19,
   "metadata": {},
   "outputs": [
    {
     "name": "stdout",
     "output_type": "stream",
     "text": [
      "i[:0] : \n",
      "i[0:] : ()\n",
      " + () + () = ['()()']\n",
      "i[:1] : (\n",
      "i[1:] : )\n",
      "( + () + ) = ['()()', '(())']\n",
      "last iterate: ['()()', '(())']\n",
      "i[:0] : \n",
      "i[0:] : (())\n",
      " + () + (()) = ['()(())']\n",
      "i[:1] : (\n",
      "i[1:] : ())\n",
      "( + () + ()) = ['()(())', '(()())']\n",
      "i[:2] : ((\n",
      "i[2:] : ))\n",
      "(( + () + )) = ['()(())', '(()())', '((()))']\n",
      "i[:3] : (()\n",
      "i[3:] : )\n",
      "(() + () + ) = ['()(())', '(()())', '((()))', '(()())']\n",
      "i[:0] : \n",
      "i[0:] : ()()\n",
      " + () + ()() = ['()(())', '(()())', '((()))', '(()())', '()()()']\n",
      "i[:1] : (\n",
      "i[1:] : )()\n",
      "( + () + )() = ['()(())', '(()())', '((()))', '(()())', '()()()', '(())()']\n",
      "i[:2] : ()\n",
      "i[2:] : ()\n",
      "() + () + () = ['()(())', '(()())', '((()))', '(()())', '()()()', '(())()', '()()()']\n",
      "i[:3] : ()(\n",
      "i[3:] : )\n",
      "()( + () + ) = ['()(())', '(()())', '((()))', '(()())', '()()()', '(())()', '()()()', '()(())']\n",
      "last iterate: ['()(())', '(()())', '((()))', '(()())', '()()()', '(())()', '()()()', '()(())']\n"
     ]
    },
    {
     "data": {
      "text/plain": [
       "['((()))', '()(())', '(()())', '(())()', '()()()']"
      ]
     },
     "execution_count": 19,
     "metadata": {},
     "output_type": "execute_result"
    }
   ],
   "source": [
    "n = 3\n",
    "comb = ['()']\n",
    "c = 1\n",
    "while c < n:\n",
    "    temp = []\n",
    "    for i in comb:\n",
    "        for j in range(len(i)):\n",
    "            temp.append(i[:j] + '()' + i[j:])\n",
    "            print(f\"i[:{j}] :\", i[:j])\n",
    "            print(f\"i[{j}:] :\", i[j:])\n",
    "            print(i[:j], \"+ () +\", i[j:], \"=\",temp)\n",
    "    print(\"last iterate:\", temp)\n",
    "    # use the set function when n = 3\n",
    "    comb = list(set(temp))\n",
    "    c += 1\n",
    "comb if n!=0 else [\"\"]"
   ]
  },
  {
   "cell_type": "code",
   "execution_count": 20,
   "metadata": {},
   "outputs": [
    {
     "data": {
      "text/plain": [
       "['((()))', '()(())', '(()())', '(())()', '()()()']"
      ]
     },
     "execution_count": 20,
     "metadata": {},
     "output_type": "execute_result"
    }
   ],
   "source": [
    "n = 3\n",
    "comb = ['()']\n",
    "c = 1\n",
    "while c < n:\n",
    "    temp = []\n",
    "    for i in comb:\n",
    "        for j in range(len(i)):\n",
    "            temp.append(i[:j] + '()' + i[j:])\n",
    "    # use the set function when n = 3\n",
    "    comb = list(set(temp))\n",
    "    c += 1\n",
    "comb if n!=0 else [\"\"]"
   ]
  },
  {
   "cell_type": "code",
   "execution_count": 22,
   "metadata": {},
   "outputs": [
    {
     "name": "stdout",
     "output_type": "stream",
     "text": [
      "passed\n",
      "passed\n",
      "passed\n",
      "passed\n"
     ]
    }
   ],
   "source": [
    "x,y,z=0,1,0\n",
    "if x==1 or y==1 or z==1:\n",
    "    print(\"passed\")\n",
    "if 1 in(x,y,z):\n",
    "    print(\"passed\")\n",
    "if x or y or z:\n",
    "    print(\"passed\")\n",
    "if any((x,y,z)):\n",
    "    print(\"passed\")"
   ]
  },
  {
   "cell_type": "code",
   "execution_count": 25,
   "metadata": {},
   "outputs": [],
   "source": [
    "n=3\n",
    "comb=['()']\n",
    "c=1\n",
    "while c < n:\n",
    "    comb=list(set([i[:j]+\"()\"+i[j:] for i in comb for j in range(len(i))])) \n",
    "    c+=1\n",
    "if n==0 : comb =[\"\"]"
   ]
  },
  {
   "cell_type": "code",
   "execution_count": null,
   "metadata": {},
   "outputs": [],
   "source": []
  }
 ],
 "metadata": {
  "kernelspec": {
   "display_name": "Python 3",
   "language": "python",
   "name": "python3"
  },
  "language_info": {
   "codemirror_mode": {
    "name": "ipython",
    "version": 3
   },
   "file_extension": ".py",
   "mimetype": "text/x-python",
   "name": "python",
   "nbconvert_exporter": "python",
   "pygments_lexer": "ipython3",
   "version": "3.7.3"
  }
 },
 "nbformat": 4,
 "nbformat_minor": 2
}
